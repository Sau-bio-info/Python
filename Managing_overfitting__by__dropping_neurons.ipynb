{
  "nbformat": 4,
  "nbformat_minor": 0,
  "metadata": {
    "colab": {
      "provenance": [],
      "authorship_tag": "ABX9TyMkNB4FidjOoURyPaS+56LP",
      "include_colab_link": true
    },
    "kernelspec": {
      "name": "python3",
      "display_name": "Python 3"
    },
    "language_info": {
      "name": "python"
    }
  },
  "cells": [
    {
      "cell_type": "markdown",
      "metadata": {
        "id": "view-in-github",
        "colab_type": "text"
      },
      "source": [
        "<a href=\"https://colab.research.google.com/github/Sau-bio-info/Python/blob/main/Managing_overfitting__by__dropping_neurons.ipynb\" target=\"_parent\"><img src=\"https://colab.research.google.com/assets/colab-badge.svg\" alt=\"Open In Colab\"/></a>"
      ]
    },
    {
      "cell_type": "code",
      "execution_count": 154,
      "metadata": {
        "id": "psz380P09Wpr"
      },
      "outputs": [],
      "source": [
        "import pandas as pd\n",
        "import tensorflow as tf\n",
        "from tensorflow import keras\n",
        "import numpy as np\n"
      ]
    },
    {
      "cell_type": "code",
      "source": [
        "df=pd.read_csv(\"/content/Mine _vs_rock - Sheet1.csv\", header=None)\n",
        "\n",
        "type(df)"
      ],
      "metadata": {
        "colab": {
          "base_uri": "https://localhost:8080/"
        },
        "id": "q2H21rP5FBHp",
        "outputId": "fd2e9fd9-d6e4-4374-98bf-098d83d25fab"
      },
      "execution_count": 155,
      "outputs": [
        {
          "output_type": "execute_result",
          "data": {
            "text/plain": [
              "pandas.core.frame.DataFrame"
            ]
          },
          "metadata": {},
          "execution_count": 155
        }
      ]
    },
    {
      "cell_type": "code",
      "source": [
        "df.head()\n",
        "df.columns"
      ],
      "metadata": {
        "colab": {
          "base_uri": "https://localhost:8080/"
        },
        "id": "KRrgfmkSFRhQ",
        "outputId": "d20a5558-7692-435e-d03e-ae008a2f1613"
      },
      "execution_count": 156,
      "outputs": [
        {
          "output_type": "execute_result",
          "data": {
            "text/plain": [
              "Int64Index([ 0,  1,  2,  3,  4,  5,  6,  7,  8,  9, 10, 11, 12, 13, 14, 15, 16,\n",
              "            17, 18, 19, 20, 21, 22, 23, 24, 25, 26, 27, 28, 29, 30, 31, 32, 33,\n",
              "            34, 35, 36, 37, 38, 39, 40, 41, 42, 43, 44, 45, 46, 47, 48, 49, 50,\n",
              "            51, 52, 53, 54, 55, 56, 57, 58, 59, 60],\n",
              "           dtype='int64')"
            ]
          },
          "metadata": {},
          "execution_count": 156
        }
      ]
    },
    {
      "cell_type": "code",
      "source": [
        "df.isnull().sum()\n",
        "\n",
        "df.info()"
      ],
      "metadata": {
        "colab": {
          "base_uri": "https://localhost:8080/"
        },
        "id": "WLcxRjOyFVxu",
        "outputId": "386c7282-f21f-4f66-a2b0-413b78ad01f5"
      },
      "execution_count": 157,
      "outputs": [
        {
          "output_type": "stream",
          "name": "stdout",
          "text": [
            "<class 'pandas.core.frame.DataFrame'>\n",
            "RangeIndex: 208 entries, 0 to 207\n",
            "Data columns (total 61 columns):\n",
            " #   Column  Non-Null Count  Dtype  \n",
            "---  ------  --------------  -----  \n",
            " 0   0       208 non-null    float64\n",
            " 1   1       208 non-null    float64\n",
            " 2   2       208 non-null    float64\n",
            " 3   3       208 non-null    float64\n",
            " 4   4       208 non-null    float64\n",
            " 5   5       208 non-null    float64\n",
            " 6   6       208 non-null    float64\n",
            " 7   7       208 non-null    float64\n",
            " 8   8       208 non-null    float64\n",
            " 9   9       208 non-null    float64\n",
            " 10  10      208 non-null    float64\n",
            " 11  11      208 non-null    float64\n",
            " 12  12      208 non-null    float64\n",
            " 13  13      208 non-null    float64\n",
            " 14  14      208 non-null    float64\n",
            " 15  15      208 non-null    float64\n",
            " 16  16      208 non-null    float64\n",
            " 17  17      208 non-null    float64\n",
            " 18  18      208 non-null    float64\n",
            " 19  19      208 non-null    float64\n",
            " 20  20      208 non-null    float64\n",
            " 21  21      208 non-null    float64\n",
            " 22  22      208 non-null    float64\n",
            " 23  23      208 non-null    float64\n",
            " 24  24      208 non-null    float64\n",
            " 25  25      208 non-null    float64\n",
            " 26  26      208 non-null    float64\n",
            " 27  27      208 non-null    float64\n",
            " 28  28      208 non-null    float64\n",
            " 29  29      208 non-null    float64\n",
            " 30  30      208 non-null    float64\n",
            " 31  31      208 non-null    float64\n",
            " 32  32      208 non-null    float64\n",
            " 33  33      208 non-null    float64\n",
            " 34  34      208 non-null    float64\n",
            " 35  35      208 non-null    float64\n",
            " 36  36      208 non-null    float64\n",
            " 37  37      208 non-null    float64\n",
            " 38  38      208 non-null    float64\n",
            " 39  39      208 non-null    float64\n",
            " 40  40      208 non-null    float64\n",
            " 41  41      208 non-null    float64\n",
            " 42  42      208 non-null    float64\n",
            " 43  43      208 non-null    float64\n",
            " 44  44      208 non-null    float64\n",
            " 45  45      208 non-null    float64\n",
            " 46  46      208 non-null    float64\n",
            " 47  47      208 non-null    float64\n",
            " 48  48      208 non-null    float64\n",
            " 49  49      208 non-null    float64\n",
            " 50  50      208 non-null    float64\n",
            " 51  51      208 non-null    float64\n",
            " 52  52      208 non-null    float64\n",
            " 53  53      208 non-null    float64\n",
            " 54  54      208 non-null    float64\n",
            " 55  55      208 non-null    float64\n",
            " 56  56      208 non-null    float64\n",
            " 57  57      208 non-null    float64\n",
            " 58  58      208 non-null    float64\n",
            " 59  59      208 non-null    float64\n",
            " 60  60      208 non-null    object \n",
            "dtypes: float64(60), object(1)\n",
            "memory usage: 99.2+ KB\n"
          ]
        }
      ]
    },
    {
      "cell_type": "code",
      "source": [
        "df.describe()"
      ],
      "metadata": {
        "colab": {
          "base_uri": "https://localhost:8080/",
          "height": 394
        },
        "id": "jLqwaU9kF8kv",
        "outputId": "1b9b48da-0720-4a95-d4be-97c887e939a0"
      },
      "execution_count": 158,
      "outputs": [
        {
          "output_type": "execute_result",
          "data": {
            "text/plain": [
              "               0           1           2           3           4           5   \\\n",
              "count  208.000000  208.000000  208.000000  208.000000  208.000000  208.000000   \n",
              "mean     0.029164    0.038437    0.043832    0.053892    0.075202    0.104570   \n",
              "std      0.022991    0.032960    0.038428    0.046528    0.055552    0.059105   \n",
              "min      0.001500    0.000600    0.001500    0.005800    0.006700    0.010200   \n",
              "25%      0.013350    0.016450    0.018950    0.024375    0.038050    0.067025   \n",
              "50%      0.022800    0.030800    0.034300    0.044050    0.062500    0.092150   \n",
              "75%      0.035550    0.047950    0.057950    0.064500    0.100275    0.134125   \n",
              "max      0.137100    0.233900    0.305900    0.426400    0.401000    0.382300   \n",
              "\n",
              "               6           7           8           9   ...          50  \\\n",
              "count  208.000000  208.000000  208.000000  208.000000  ...  208.000000   \n",
              "mean     0.121747    0.134799    0.178003    0.208259  ...    0.016069   \n",
              "std      0.061788    0.085152    0.118387    0.134416  ...    0.012008   \n",
              "min      0.003300    0.005500    0.007500    0.011300  ...    0.000000   \n",
              "25%      0.080900    0.080425    0.097025    0.111275  ...    0.008425   \n",
              "50%      0.106950    0.112100    0.152250    0.182400  ...    0.013900   \n",
              "75%      0.154000    0.169600    0.233425    0.268700  ...    0.020825   \n",
              "max      0.372900    0.459000    0.682800    0.710600  ...    0.100400   \n",
              "\n",
              "               51          52          53          54          55          56  \\\n",
              "count  208.000000  208.000000  208.000000  208.000000  208.000000  208.000000   \n",
              "mean     0.013420    0.010709    0.010941    0.009290    0.008222    0.007820   \n",
              "std      0.009634    0.007060    0.007301    0.007088    0.005736    0.005785   \n",
              "min      0.000800    0.000500    0.001000    0.000600    0.000400    0.000300   \n",
              "25%      0.007275    0.005075    0.005375    0.004150    0.004400    0.003700   \n",
              "50%      0.011400    0.009550    0.009300    0.007500    0.006850    0.005950   \n",
              "75%      0.016725    0.014900    0.014500    0.012100    0.010575    0.010425   \n",
              "max      0.070900    0.039000    0.035200    0.044700    0.039400    0.035500   \n",
              "\n",
              "               57          58          59  \n",
              "count  208.000000  208.000000  208.000000  \n",
              "mean     0.007949    0.007941    0.006507  \n",
              "std      0.006470    0.006181    0.005031  \n",
              "min      0.000300    0.000100    0.000600  \n",
              "25%      0.003600    0.003675    0.003100  \n",
              "50%      0.005800    0.006400    0.005300  \n",
              "75%      0.010350    0.010325    0.008525  \n",
              "max      0.044000    0.036400    0.043900  \n",
              "\n",
              "[8 rows x 60 columns]"
            ],
            "text/html": [
              "\n",
              "  <div id=\"df-907ac605-0ae2-45e2-a52a-59954562a83f\">\n",
              "    <div class=\"colab-df-container\">\n",
              "      <div>\n",
              "<style scoped>\n",
              "    .dataframe tbody tr th:only-of-type {\n",
              "        vertical-align: middle;\n",
              "    }\n",
              "\n",
              "    .dataframe tbody tr th {\n",
              "        vertical-align: top;\n",
              "    }\n",
              "\n",
              "    .dataframe thead th {\n",
              "        text-align: right;\n",
              "    }\n",
              "</style>\n",
              "<table border=\"1\" class=\"dataframe\">\n",
              "  <thead>\n",
              "    <tr style=\"text-align: right;\">\n",
              "      <th></th>\n",
              "      <th>0</th>\n",
              "      <th>1</th>\n",
              "      <th>2</th>\n",
              "      <th>3</th>\n",
              "      <th>4</th>\n",
              "      <th>5</th>\n",
              "      <th>6</th>\n",
              "      <th>7</th>\n",
              "      <th>8</th>\n",
              "      <th>9</th>\n",
              "      <th>...</th>\n",
              "      <th>50</th>\n",
              "      <th>51</th>\n",
              "      <th>52</th>\n",
              "      <th>53</th>\n",
              "      <th>54</th>\n",
              "      <th>55</th>\n",
              "      <th>56</th>\n",
              "      <th>57</th>\n",
              "      <th>58</th>\n",
              "      <th>59</th>\n",
              "    </tr>\n",
              "  </thead>\n",
              "  <tbody>\n",
              "    <tr>\n",
              "      <th>count</th>\n",
              "      <td>208.000000</td>\n",
              "      <td>208.000000</td>\n",
              "      <td>208.000000</td>\n",
              "      <td>208.000000</td>\n",
              "      <td>208.000000</td>\n",
              "      <td>208.000000</td>\n",
              "      <td>208.000000</td>\n",
              "      <td>208.000000</td>\n",
              "      <td>208.000000</td>\n",
              "      <td>208.000000</td>\n",
              "      <td>...</td>\n",
              "      <td>208.000000</td>\n",
              "      <td>208.000000</td>\n",
              "      <td>208.000000</td>\n",
              "      <td>208.000000</td>\n",
              "      <td>208.000000</td>\n",
              "      <td>208.000000</td>\n",
              "      <td>208.000000</td>\n",
              "      <td>208.000000</td>\n",
              "      <td>208.000000</td>\n",
              "      <td>208.000000</td>\n",
              "    </tr>\n",
              "    <tr>\n",
              "      <th>mean</th>\n",
              "      <td>0.029164</td>\n",
              "      <td>0.038437</td>\n",
              "      <td>0.043832</td>\n",
              "      <td>0.053892</td>\n",
              "      <td>0.075202</td>\n",
              "      <td>0.104570</td>\n",
              "      <td>0.121747</td>\n",
              "      <td>0.134799</td>\n",
              "      <td>0.178003</td>\n",
              "      <td>0.208259</td>\n",
              "      <td>...</td>\n",
              "      <td>0.016069</td>\n",
              "      <td>0.013420</td>\n",
              "      <td>0.010709</td>\n",
              "      <td>0.010941</td>\n",
              "      <td>0.009290</td>\n",
              "      <td>0.008222</td>\n",
              "      <td>0.007820</td>\n",
              "      <td>0.007949</td>\n",
              "      <td>0.007941</td>\n",
              "      <td>0.006507</td>\n",
              "    </tr>\n",
              "    <tr>\n",
              "      <th>std</th>\n",
              "      <td>0.022991</td>\n",
              "      <td>0.032960</td>\n",
              "      <td>0.038428</td>\n",
              "      <td>0.046528</td>\n",
              "      <td>0.055552</td>\n",
              "      <td>0.059105</td>\n",
              "      <td>0.061788</td>\n",
              "      <td>0.085152</td>\n",
              "      <td>0.118387</td>\n",
              "      <td>0.134416</td>\n",
              "      <td>...</td>\n",
              "      <td>0.012008</td>\n",
              "      <td>0.009634</td>\n",
              "      <td>0.007060</td>\n",
              "      <td>0.007301</td>\n",
              "      <td>0.007088</td>\n",
              "      <td>0.005736</td>\n",
              "      <td>0.005785</td>\n",
              "      <td>0.006470</td>\n",
              "      <td>0.006181</td>\n",
              "      <td>0.005031</td>\n",
              "    </tr>\n",
              "    <tr>\n",
              "      <th>min</th>\n",
              "      <td>0.001500</td>\n",
              "      <td>0.000600</td>\n",
              "      <td>0.001500</td>\n",
              "      <td>0.005800</td>\n",
              "      <td>0.006700</td>\n",
              "      <td>0.010200</td>\n",
              "      <td>0.003300</td>\n",
              "      <td>0.005500</td>\n",
              "      <td>0.007500</td>\n",
              "      <td>0.011300</td>\n",
              "      <td>...</td>\n",
              "      <td>0.000000</td>\n",
              "      <td>0.000800</td>\n",
              "      <td>0.000500</td>\n",
              "      <td>0.001000</td>\n",
              "      <td>0.000600</td>\n",
              "      <td>0.000400</td>\n",
              "      <td>0.000300</td>\n",
              "      <td>0.000300</td>\n",
              "      <td>0.000100</td>\n",
              "      <td>0.000600</td>\n",
              "    </tr>\n",
              "    <tr>\n",
              "      <th>25%</th>\n",
              "      <td>0.013350</td>\n",
              "      <td>0.016450</td>\n",
              "      <td>0.018950</td>\n",
              "      <td>0.024375</td>\n",
              "      <td>0.038050</td>\n",
              "      <td>0.067025</td>\n",
              "      <td>0.080900</td>\n",
              "      <td>0.080425</td>\n",
              "      <td>0.097025</td>\n",
              "      <td>0.111275</td>\n",
              "      <td>...</td>\n",
              "      <td>0.008425</td>\n",
              "      <td>0.007275</td>\n",
              "      <td>0.005075</td>\n",
              "      <td>0.005375</td>\n",
              "      <td>0.004150</td>\n",
              "      <td>0.004400</td>\n",
              "      <td>0.003700</td>\n",
              "      <td>0.003600</td>\n",
              "      <td>0.003675</td>\n",
              "      <td>0.003100</td>\n",
              "    </tr>\n",
              "    <tr>\n",
              "      <th>50%</th>\n",
              "      <td>0.022800</td>\n",
              "      <td>0.030800</td>\n",
              "      <td>0.034300</td>\n",
              "      <td>0.044050</td>\n",
              "      <td>0.062500</td>\n",
              "      <td>0.092150</td>\n",
              "      <td>0.106950</td>\n",
              "      <td>0.112100</td>\n",
              "      <td>0.152250</td>\n",
              "      <td>0.182400</td>\n",
              "      <td>...</td>\n",
              "      <td>0.013900</td>\n",
              "      <td>0.011400</td>\n",
              "      <td>0.009550</td>\n",
              "      <td>0.009300</td>\n",
              "      <td>0.007500</td>\n",
              "      <td>0.006850</td>\n",
              "      <td>0.005950</td>\n",
              "      <td>0.005800</td>\n",
              "      <td>0.006400</td>\n",
              "      <td>0.005300</td>\n",
              "    </tr>\n",
              "    <tr>\n",
              "      <th>75%</th>\n",
              "      <td>0.035550</td>\n",
              "      <td>0.047950</td>\n",
              "      <td>0.057950</td>\n",
              "      <td>0.064500</td>\n",
              "      <td>0.100275</td>\n",
              "      <td>0.134125</td>\n",
              "      <td>0.154000</td>\n",
              "      <td>0.169600</td>\n",
              "      <td>0.233425</td>\n",
              "      <td>0.268700</td>\n",
              "      <td>...</td>\n",
              "      <td>0.020825</td>\n",
              "      <td>0.016725</td>\n",
              "      <td>0.014900</td>\n",
              "      <td>0.014500</td>\n",
              "      <td>0.012100</td>\n",
              "      <td>0.010575</td>\n",
              "      <td>0.010425</td>\n",
              "      <td>0.010350</td>\n",
              "      <td>0.010325</td>\n",
              "      <td>0.008525</td>\n",
              "    </tr>\n",
              "    <tr>\n",
              "      <th>max</th>\n",
              "      <td>0.137100</td>\n",
              "      <td>0.233900</td>\n",
              "      <td>0.305900</td>\n",
              "      <td>0.426400</td>\n",
              "      <td>0.401000</td>\n",
              "      <td>0.382300</td>\n",
              "      <td>0.372900</td>\n",
              "      <td>0.459000</td>\n",
              "      <td>0.682800</td>\n",
              "      <td>0.710600</td>\n",
              "      <td>...</td>\n",
              "      <td>0.100400</td>\n",
              "      <td>0.070900</td>\n",
              "      <td>0.039000</td>\n",
              "      <td>0.035200</td>\n",
              "      <td>0.044700</td>\n",
              "      <td>0.039400</td>\n",
              "      <td>0.035500</td>\n",
              "      <td>0.044000</td>\n",
              "      <td>0.036400</td>\n",
              "      <td>0.043900</td>\n",
              "    </tr>\n",
              "  </tbody>\n",
              "</table>\n",
              "<p>8 rows × 60 columns</p>\n",
              "</div>\n",
              "      <button class=\"colab-df-convert\" onclick=\"convertToInteractive('df-907ac605-0ae2-45e2-a52a-59954562a83f')\"\n",
              "              title=\"Convert this dataframe to an interactive table.\"\n",
              "              style=\"display:none;\">\n",
              "        \n",
              "  <svg xmlns=\"http://www.w3.org/2000/svg\" height=\"24px\"viewBox=\"0 0 24 24\"\n",
              "       width=\"24px\">\n",
              "    <path d=\"M0 0h24v24H0V0z\" fill=\"none\"/>\n",
              "    <path d=\"M18.56 5.44l.94 2.06.94-2.06 2.06-.94-2.06-.94-.94-2.06-.94 2.06-2.06.94zm-11 1L8.5 8.5l.94-2.06 2.06-.94-2.06-.94L8.5 2.5l-.94 2.06-2.06.94zm10 10l.94 2.06.94-2.06 2.06-.94-2.06-.94-.94-2.06-.94 2.06-2.06.94z\"/><path d=\"M17.41 7.96l-1.37-1.37c-.4-.4-.92-.59-1.43-.59-.52 0-1.04.2-1.43.59L10.3 9.45l-7.72 7.72c-.78.78-.78 2.05 0 2.83L4 21.41c.39.39.9.59 1.41.59.51 0 1.02-.2 1.41-.59l7.78-7.78 2.81-2.81c.8-.78.8-2.07 0-2.86zM5.41 20L4 18.59l7.72-7.72 1.47 1.35L5.41 20z\"/>\n",
              "  </svg>\n",
              "      </button>\n",
              "      \n",
              "  <style>\n",
              "    .colab-df-container {\n",
              "      display:flex;\n",
              "      flex-wrap:wrap;\n",
              "      gap: 12px;\n",
              "    }\n",
              "\n",
              "    .colab-df-convert {\n",
              "      background-color: #E8F0FE;\n",
              "      border: none;\n",
              "      border-radius: 50%;\n",
              "      cursor: pointer;\n",
              "      display: none;\n",
              "      fill: #1967D2;\n",
              "      height: 32px;\n",
              "      padding: 0 0 0 0;\n",
              "      width: 32px;\n",
              "    }\n",
              "\n",
              "    .colab-df-convert:hover {\n",
              "      background-color: #E2EBFA;\n",
              "      box-shadow: 0px 1px 2px rgba(60, 64, 67, 0.3), 0px 1px 3px 1px rgba(60, 64, 67, 0.15);\n",
              "      fill: #174EA6;\n",
              "    }\n",
              "\n",
              "    [theme=dark] .colab-df-convert {\n",
              "      background-color: #3B4455;\n",
              "      fill: #D2E3FC;\n",
              "    }\n",
              "\n",
              "    [theme=dark] .colab-df-convert:hover {\n",
              "      background-color: #434B5C;\n",
              "      box-shadow: 0px 1px 3px 1px rgba(0, 0, 0, 0.15);\n",
              "      filter: drop-shadow(0px 1px 2px rgba(0, 0, 0, 0.3));\n",
              "      fill: #FFFFFF;\n",
              "    }\n",
              "  </style>\n",
              "\n",
              "      <script>\n",
              "        const buttonEl =\n",
              "          document.querySelector('#df-907ac605-0ae2-45e2-a52a-59954562a83f button.colab-df-convert');\n",
              "        buttonEl.style.display =\n",
              "          google.colab.kernel.accessAllowed ? 'block' : 'none';\n",
              "\n",
              "        async function convertToInteractive(key) {\n",
              "          const element = document.querySelector('#df-907ac605-0ae2-45e2-a52a-59954562a83f');\n",
              "          const dataTable =\n",
              "            await google.colab.kernel.invokeFunction('convertToInteractive',\n",
              "                                                     [key], {});\n",
              "          if (!dataTable) return;\n",
              "\n",
              "          const docLinkHtml = 'Like what you see? Visit the ' +\n",
              "            '<a target=\"_blank\" href=https://colab.research.google.com/notebooks/data_table.ipynb>data table notebook</a>'\n",
              "            + ' to learn more about interactive tables.';\n",
              "          element.innerHTML = '';\n",
              "          dataTable['output_type'] = 'display_data';\n",
              "          await google.colab.output.renderOutput(dataTable, element);\n",
              "          const docLink = document.createElement('div');\n",
              "          docLink.innerHTML = docLinkHtml;\n",
              "          element.appendChild(docLink);\n",
              "        }\n",
              "      </script>\n",
              "    </div>\n",
              "  </div>\n",
              "  "
            ]
          },
          "metadata": {},
          "execution_count": 158
        }
      ]
    },
    {
      "cell_type": "code",
      "source": [
        "df[60].value_counts() "
      ],
      "metadata": {
        "colab": {
          "base_uri": "https://localhost:8080/"
        },
        "id": "TxiiTzjPGG0c",
        "outputId": "c27da3a4-4fa0-4392-9211-e4e9ab899610"
      },
      "execution_count": 159,
      "outputs": [
        {
          "output_type": "execute_result",
          "data": {
            "text/plain": [
              "M    111\n",
              "R     97\n",
              "Name: 60, dtype: int64"
            ]
          },
          "metadata": {},
          "execution_count": 159
        }
      ]
    },
    {
      "cell_type": "code",
      "source": [
        "x=df.drop(60, axis=1)\n",
        "\n",
        "y=df.iloc[:,60]"
      ],
      "metadata": {
        "id": "mOlvQYEMGUiU"
      },
      "execution_count": 160,
      "outputs": []
    },
    {
      "cell_type": "code",
      "source": [
        "y.shape\n"
      ],
      "metadata": {
        "colab": {
          "base_uri": "https://localhost:8080/"
        },
        "id": "YCcJQAsQG0Z7",
        "outputId": "ef009f99-3051-44bd-df72-63227d71864d"
      },
      "execution_count": 161,
      "outputs": [
        {
          "output_type": "execute_result",
          "data": {
            "text/plain": [
              "(208,)"
            ]
          },
          "metadata": {},
          "execution_count": 161
        }
      ]
    },
    {
      "cell_type": "code",
      "source": [
        "y=pd.get_dummies(y, drop_first=True)"
      ],
      "metadata": {
        "id": "9yD_ix18G9-a"
      },
      "execution_count": 162,
      "outputs": []
    },
    {
      "cell_type": "markdown",
      "source": [
        "Rock ----> 1   Metal---> 0"
      ],
      "metadata": {
        "id": "2VPVK5EWJFlD"
      }
    },
    {
      "cell_type": "code",
      "source": [
        "y.value_counts()"
      ],
      "metadata": {
        "colab": {
          "base_uri": "https://localhost:8080/"
        },
        "id": "FRh5gLNzH6NX",
        "outputId": "26d81d00-7b69-48a3-cef9-d256d2b50f42"
      },
      "execution_count": 163,
      "outputs": [
        {
          "output_type": "execute_result",
          "data": {
            "text/plain": [
              "R\n",
              "0    111\n",
              "1     97\n",
              "dtype: int64"
            ]
          },
          "metadata": {},
          "execution_count": 163
        }
      ]
    },
    {
      "cell_type": "code",
      "source": [
        "from sklearn.model_selection import train_test_split\n",
        "\n",
        "x_train,x_test,y_train,y_test=train_test_split(x,y,test_size=0.25,random_state=1)\n",
        "\n"
      ],
      "metadata": {
        "id": "KGcC2uv8H7tn"
      },
      "execution_count": 164,
      "outputs": []
    },
    {
      "cell_type": "code",
      "source": [
        "print(x_train.shape,x_test.shape)"
      ],
      "metadata": {
        "colab": {
          "base_uri": "https://localhost:8080/"
        },
        "id": "tfZjRYe2JpcE",
        "outputId": "caebfbcc-355e-4a55-cefe-9225ba15689d"
      },
      "execution_count": 165,
      "outputs": [
        {
          "output_type": "stream",
          "name": "stdout",
          "text": [
            "(156, 60) (52, 60)\n"
          ]
        }
      ]
    },
    {
      "cell_type": "code",
      "source": [
        "model= keras.Sequential([\n",
        "    keras.layers.Dense(60, input_dim=60, activation=\"relu\"),\n",
        "     keras.layers.Dense(30,activation=\"relu\"),\n",
        "      keras.layers.Dense(15,activation=\"relu\"),\n",
        "      keras.layers.Dense(1,activation=\"sigmoid\"),\n",
        "\n",
        "])\n",
        "\n",
        "model.compile(loss=\"binary_crossentropy\",optimizer=\"adam\", metrics=['accuracy'])\n",
        "\n",
        "\n",
        "model.fit(x_test,y_test, epochs=100, batch_size=8)\n"
      ],
      "metadata": {
        "colab": {
          "base_uri": "https://localhost:8080/"
        },
        "id": "6TBMmLTAJxWA",
        "outputId": "2b457eef-8665-42d8-e644-af5432b33449"
      },
      "execution_count": 166,
      "outputs": [
        {
          "output_type": "stream",
          "name": "stdout",
          "text": [
            "Epoch 1/100\n",
            "7/7 [==============================] - 1s 4ms/step - loss: 0.6911 - accuracy: 0.5000\n",
            "Epoch 2/100\n",
            "7/7 [==============================] - 0s 4ms/step - loss: 0.6662 - accuracy: 0.6346\n",
            "Epoch 3/100\n",
            "7/7 [==============================] - 0s 4ms/step - loss: 0.6563 - accuracy: 0.6154\n",
            "Epoch 4/100\n",
            "7/7 [==============================] - 0s 4ms/step - loss: 0.6398 - accuracy: 0.7115\n",
            "Epoch 5/100\n",
            "7/7 [==============================] - 0s 3ms/step - loss: 0.6264 - accuracy: 0.8269\n",
            "Epoch 6/100\n",
            "7/7 [==============================] - 0s 3ms/step - loss: 0.6110 - accuracy: 0.7885\n",
            "Epoch 7/100\n",
            "7/7 [==============================] - 0s 3ms/step - loss: 0.5939 - accuracy: 0.8654\n",
            "Epoch 8/100\n",
            "7/7 [==============================] - 0s 3ms/step - loss: 0.5798 - accuracy: 0.7692\n",
            "Epoch 9/100\n",
            "7/7 [==============================] - 0s 3ms/step - loss: 0.5698 - accuracy: 0.8077\n",
            "Epoch 10/100\n",
            "7/7 [==============================] - 0s 3ms/step - loss: 0.5480 - accuracy: 0.8462\n",
            "Epoch 11/100\n",
            "7/7 [==============================] - 0s 3ms/step - loss: 0.5236 - accuracy: 0.8846\n",
            "Epoch 12/100\n",
            "7/7 [==============================] - 0s 4ms/step - loss: 0.5015 - accuracy: 0.8462\n",
            "Epoch 13/100\n",
            "7/7 [==============================] - 0s 5ms/step - loss: 0.4797 - accuracy: 0.8462\n",
            "Epoch 14/100\n",
            "7/7 [==============================] - 0s 4ms/step - loss: 0.4714 - accuracy: 0.8654\n",
            "Epoch 15/100\n",
            "7/7 [==============================] - 0s 3ms/step - loss: 0.4361 - accuracy: 0.9038\n",
            "Epoch 16/100\n",
            "7/7 [==============================] - 0s 4ms/step - loss: 0.4294 - accuracy: 0.8462\n",
            "Epoch 17/100\n",
            "7/7 [==============================] - 0s 3ms/step - loss: 0.4074 - accuracy: 0.8846\n",
            "Epoch 18/100\n",
            "7/7 [==============================] - 0s 4ms/step - loss: 0.3878 - accuracy: 0.9231\n",
            "Epoch 19/100\n",
            "7/7 [==============================] - 0s 4ms/step - loss: 0.3717 - accuracy: 0.9231\n",
            "Epoch 20/100\n",
            "7/7 [==============================] - 0s 4ms/step - loss: 0.3644 - accuracy: 0.9231\n",
            "Epoch 21/100\n",
            "7/7 [==============================] - 0s 3ms/step - loss: 0.3463 - accuracy: 0.9231\n",
            "Epoch 22/100\n",
            "7/7 [==============================] - 0s 3ms/step - loss: 0.3238 - accuracy: 0.9231\n",
            "Epoch 23/100\n",
            "7/7 [==============================] - 0s 4ms/step - loss: 0.3297 - accuracy: 0.8654\n",
            "Epoch 24/100\n",
            "7/7 [==============================] - 0s 3ms/step - loss: 0.3012 - accuracy: 0.9423\n",
            "Epoch 25/100\n",
            "7/7 [==============================] - 0s 3ms/step - loss: 0.3038 - accuracy: 0.9038\n",
            "Epoch 26/100\n",
            "7/7 [==============================] - 0s 3ms/step - loss: 0.2870 - accuracy: 0.9231\n",
            "Epoch 27/100\n",
            "7/7 [==============================] - 0s 3ms/step - loss: 0.2715 - accuracy: 0.9423\n",
            "Epoch 28/100\n",
            "7/7 [==============================] - 0s 4ms/step - loss: 0.2667 - accuracy: 0.9038\n",
            "Epoch 29/100\n",
            "7/7 [==============================] - 0s 3ms/step - loss: 0.2572 - accuracy: 0.9615\n",
            "Epoch 30/100\n",
            "7/7 [==============================] - 0s 4ms/step - loss: 0.2568 - accuracy: 0.9038\n",
            "Epoch 31/100\n",
            "7/7 [==============================] - 0s 4ms/step - loss: 0.2362 - accuracy: 0.9231\n",
            "Epoch 32/100\n",
            "7/7 [==============================] - 0s 3ms/step - loss: 0.2605 - accuracy: 0.9038\n",
            "Epoch 33/100\n",
            "7/7 [==============================] - 0s 3ms/step - loss: 0.2557 - accuracy: 0.8846\n",
            "Epoch 34/100\n",
            "7/7 [==============================] - 0s 3ms/step - loss: 0.2768 - accuracy: 0.8846\n",
            "Epoch 35/100\n",
            "7/7 [==============================] - 0s 4ms/step - loss: 0.2400 - accuracy: 0.8846\n",
            "Epoch 36/100\n",
            "7/7 [==============================] - 0s 3ms/step - loss: 0.2178 - accuracy: 0.9038\n",
            "Epoch 37/100\n",
            "7/7 [==============================] - 0s 3ms/step - loss: 0.2040 - accuracy: 0.9615\n",
            "Epoch 38/100\n",
            "7/7 [==============================] - 0s 3ms/step - loss: 0.1902 - accuracy: 0.9231\n",
            "Epoch 39/100\n",
            "7/7 [==============================] - 0s 4ms/step - loss: 0.1844 - accuracy: 0.9231\n",
            "Epoch 40/100\n",
            "7/7 [==============================] - 0s 3ms/step - loss: 0.1708 - accuracy: 0.9615\n",
            "Epoch 41/100\n",
            "7/7 [==============================] - 0s 3ms/step - loss: 0.1643 - accuracy: 0.9615\n",
            "Epoch 42/100\n",
            "7/7 [==============================] - 0s 3ms/step - loss: 0.1537 - accuracy: 0.9615\n",
            "Epoch 43/100\n",
            "7/7 [==============================] - 0s 4ms/step - loss: 0.1593 - accuracy: 0.9808\n",
            "Epoch 44/100\n",
            "7/7 [==============================] - 0s 3ms/step - loss: 0.1566 - accuracy: 0.9615\n",
            "Epoch 45/100\n",
            "7/7 [==============================] - 0s 4ms/step - loss: 0.1532 - accuracy: 0.9808\n",
            "Epoch 46/100\n",
            "7/7 [==============================] - 0s 4ms/step - loss: 0.1337 - accuracy: 0.9808\n",
            "Epoch 47/100\n",
            "7/7 [==============================] - 0s 3ms/step - loss: 0.1308 - accuracy: 0.9808\n",
            "Epoch 48/100\n",
            "7/7 [==============================] - 0s 4ms/step - loss: 0.1279 - accuracy: 0.9808\n",
            "Epoch 49/100\n",
            "7/7 [==============================] - 0s 4ms/step - loss: 0.1114 - accuracy: 1.0000\n",
            "Epoch 50/100\n",
            "7/7 [==============================] - 0s 4ms/step - loss: 0.1167 - accuracy: 1.0000\n",
            "Epoch 51/100\n",
            "7/7 [==============================] - 0s 3ms/step - loss: 0.1071 - accuracy: 1.0000\n",
            "Epoch 52/100\n",
            "7/7 [==============================] - 0s 3ms/step - loss: 0.0998 - accuracy: 1.0000\n",
            "Epoch 53/100\n",
            "7/7 [==============================] - 0s 3ms/step - loss: 0.0962 - accuracy: 1.0000\n",
            "Epoch 54/100\n",
            "7/7 [==============================] - 0s 3ms/step - loss: 0.0884 - accuracy: 1.0000\n",
            "Epoch 55/100\n",
            "7/7 [==============================] - 0s 3ms/step - loss: 0.0850 - accuracy: 1.0000\n",
            "Epoch 56/100\n",
            "7/7 [==============================] - 0s 3ms/step - loss: 0.0825 - accuracy: 1.0000\n",
            "Epoch 57/100\n",
            "7/7 [==============================] - 0s 3ms/step - loss: 0.0760 - accuracy: 1.0000\n",
            "Epoch 58/100\n",
            "7/7 [==============================] - 0s 3ms/step - loss: 0.0761 - accuracy: 1.0000\n",
            "Epoch 59/100\n",
            "7/7 [==============================] - 0s 3ms/step - loss: 0.0683 - accuracy: 1.0000\n",
            "Epoch 60/100\n",
            "7/7 [==============================] - 0s 4ms/step - loss: 0.0660 - accuracy: 1.0000\n",
            "Epoch 61/100\n",
            "7/7 [==============================] - 0s 5ms/step - loss: 0.0595 - accuracy: 1.0000\n",
            "Epoch 62/100\n",
            "7/7 [==============================] - 0s 4ms/step - loss: 0.0586 - accuracy: 1.0000\n",
            "Epoch 63/100\n",
            "7/7 [==============================] - 0s 4ms/step - loss: 0.0552 - accuracy: 1.0000\n",
            "Epoch 64/100\n",
            "7/7 [==============================] - 0s 3ms/step - loss: 0.0487 - accuracy: 1.0000\n",
            "Epoch 65/100\n",
            "7/7 [==============================] - 0s 3ms/step - loss: 0.0526 - accuracy: 1.0000\n",
            "Epoch 66/100\n",
            "7/7 [==============================] - 0s 3ms/step - loss: 0.0445 - accuracy: 1.0000\n",
            "Epoch 67/100\n",
            "7/7 [==============================] - 0s 3ms/step - loss: 0.0435 - accuracy: 1.0000\n",
            "Epoch 68/100\n",
            "7/7 [==============================] - 0s 3ms/step - loss: 0.0394 - accuracy: 1.0000\n",
            "Epoch 69/100\n",
            "7/7 [==============================] - 0s 3ms/step - loss: 0.0388 - accuracy: 1.0000\n",
            "Epoch 70/100\n",
            "7/7 [==============================] - 0s 3ms/step - loss: 0.0434 - accuracy: 1.0000\n",
            "Epoch 71/100\n",
            "7/7 [==============================] - 0s 3ms/step - loss: 0.0350 - accuracy: 1.0000\n",
            "Epoch 72/100\n",
            "7/7 [==============================] - 0s 4ms/step - loss: 0.0339 - accuracy: 1.0000\n",
            "Epoch 73/100\n",
            "7/7 [==============================] - 0s 4ms/step - loss: 0.0311 - accuracy: 1.0000\n",
            "Epoch 74/100\n",
            "7/7 [==============================] - 0s 3ms/step - loss: 0.0290 - accuracy: 1.0000\n",
            "Epoch 75/100\n",
            "7/7 [==============================] - 0s 3ms/step - loss: 0.0275 - accuracy: 1.0000\n",
            "Epoch 76/100\n",
            "7/7 [==============================] - 0s 3ms/step - loss: 0.0267 - accuracy: 1.0000\n",
            "Epoch 77/100\n",
            "7/7 [==============================] - 0s 3ms/step - loss: 0.0250 - accuracy: 1.0000\n",
            "Epoch 78/100\n",
            "7/7 [==============================] - 0s 3ms/step - loss: 0.0234 - accuracy: 1.0000\n",
            "Epoch 79/100\n",
            "7/7 [==============================] - 0s 4ms/step - loss: 0.0225 - accuracy: 1.0000\n",
            "Epoch 80/100\n",
            "7/7 [==============================] - 0s 4ms/step - loss: 0.0222 - accuracy: 1.0000\n",
            "Epoch 81/100\n",
            "7/7 [==============================] - 0s 3ms/step - loss: 0.0213 - accuracy: 1.0000\n",
            "Epoch 82/100\n",
            "7/7 [==============================] - 0s 3ms/step - loss: 0.0199 - accuracy: 1.0000\n",
            "Epoch 83/100\n",
            "7/7 [==============================] - 0s 3ms/step - loss: 0.0212 - accuracy: 1.0000\n",
            "Epoch 84/100\n",
            "7/7 [==============================] - 0s 4ms/step - loss: 0.0168 - accuracy: 1.0000\n",
            "Epoch 85/100\n",
            "7/7 [==============================] - 0s 4ms/step - loss: 0.0173 - accuracy: 1.0000\n",
            "Epoch 86/100\n",
            "7/7 [==============================] - 0s 3ms/step - loss: 0.0159 - accuracy: 1.0000\n",
            "Epoch 87/100\n",
            "7/7 [==============================] - 0s 4ms/step - loss: 0.0154 - accuracy: 1.0000\n",
            "Epoch 88/100\n",
            "7/7 [==============================] - 0s 3ms/step - loss: 0.0148 - accuracy: 1.0000\n",
            "Epoch 89/100\n",
            "7/7 [==============================] - 0s 3ms/step - loss: 0.0138 - accuracy: 1.0000\n",
            "Epoch 90/100\n",
            "7/7 [==============================] - 0s 3ms/step - loss: 0.0138 - accuracy: 1.0000\n",
            "Epoch 91/100\n",
            "7/7 [==============================] - 0s 3ms/step - loss: 0.0126 - accuracy: 1.0000\n",
            "Epoch 92/100\n",
            "7/7 [==============================] - 0s 3ms/step - loss: 0.0121 - accuracy: 1.0000\n",
            "Epoch 93/100\n",
            "7/7 [==============================] - 0s 4ms/step - loss: 0.0119 - accuracy: 1.0000\n",
            "Epoch 94/100\n",
            "7/7 [==============================] - 0s 4ms/step - loss: 0.0112 - accuracy: 1.0000\n",
            "Epoch 95/100\n",
            "7/7 [==============================] - 0s 5ms/step - loss: 0.0108 - accuracy: 1.0000\n",
            "Epoch 96/100\n",
            "7/7 [==============================] - 0s 4ms/step - loss: 0.0105 - accuracy: 1.0000\n",
            "Epoch 97/100\n",
            "7/7 [==============================] - 0s 4ms/step - loss: 0.0103 - accuracy: 1.0000\n",
            "Epoch 98/100\n",
            "7/7 [==============================] - 0s 4ms/step - loss: 0.0103 - accuracy: 1.0000\n",
            "Epoch 99/100\n",
            "7/7 [==============================] - 0s 3ms/step - loss: 0.0092 - accuracy: 1.0000\n",
            "Epoch 100/100\n",
            "7/7 [==============================] - 0s 3ms/step - loss: 0.0093 - accuracy: 1.0000\n"
          ]
        },
        {
          "output_type": "execute_result",
          "data": {
            "text/plain": [
              "<keras.callbacks.History at 0x7f168d043430>"
            ]
          },
          "metadata": {},
          "execution_count": 166
        }
      ]
    },
    {
      "cell_type": "code",
      "source": [
        "model.evaluate(x_test,y_test)"
      ],
      "metadata": {
        "colab": {
          "base_uri": "https://localhost:8080/"
        },
        "id": "YtysX-BxMZCV",
        "outputId": "0d1cf4c1-0a86-4aab-b5da-65949179dd54"
      },
      "execution_count": 167,
      "outputs": [
        {
          "output_type": "stream",
          "name": "stderr",
          "text": [
            "WARNING:tensorflow:6 out of the last 11 calls to <function Model.make_test_function.<locals>.test_function at 0x7f16782fd670> triggered tf.function retracing. Tracing is expensive and the excessive number of tracings could be due to (1) creating @tf.function repeatedly in a loop, (2) passing tensors with different shapes, (3) passing Python objects instead of tensors. For (1), please define your @tf.function outside of the loop. For (2), @tf.function has reduce_retracing=True option that can avoid unnecessary retracing. For (3), please refer to https://www.tensorflow.org/guide/function#controlling_retracing and https://www.tensorflow.org/api_docs/python/tf/function for  more details.\n"
          ]
        },
        {
          "output_type": "stream",
          "name": "stdout",
          "text": [
            "2/2 [==============================] - 0s 7ms/step - loss: 0.0089 - accuracy: 1.0000\n"
          ]
        },
        {
          "output_type": "execute_result",
          "data": {
            "text/plain": [
              "[0.008928083814680576, 1.0]"
            ]
          },
          "metadata": {},
          "execution_count": 167
        }
      ]
    },
    {
      "cell_type": "code",
      "source": [
        "y_pred=model.predict(x_test).reshape(-1)\n",
        "\n",
        "#print(y_pred[:10])\n",
        "\n",
        "y_pred=np.round(y_pred)\n",
        "\n",
        "print(y_pred)"
      ],
      "metadata": {
        "colab": {
          "base_uri": "https://localhost:8080/"
        },
        "id": "3s3lRMpzN5XH",
        "outputId": "98ffd68c-5d72-4c66-cbc9-a66707936b21"
      },
      "execution_count": 168,
      "outputs": [
        {
          "output_type": "stream",
          "name": "stderr",
          "text": [
            "WARNING:tensorflow:5 out of the last 15 calls to <function Model.make_predict_function.<locals>.predict_function at 0x7f16782fd700> triggered tf.function retracing. Tracing is expensive and the excessive number of tracings could be due to (1) creating @tf.function repeatedly in a loop, (2) passing tensors with different shapes, (3) passing Python objects instead of tensors. For (1), please define your @tf.function outside of the loop. For (2), @tf.function has reduce_retracing=True option that can avoid unnecessary retracing. For (3), please refer to https://www.tensorflow.org/guide/function#controlling_retracing and https://www.tensorflow.org/api_docs/python/tf/function for  more details.\n"
          ]
        },
        {
          "output_type": "stream",
          "name": "stdout",
          "text": [
            "2/2 [==============================] - 0s 5ms/step\n",
            "[0. 0. 0. 0. 1. 1. 0. 1. 0. 1. 1. 1. 0. 0. 0. 0. 1. 0. 1. 1. 0. 1. 1. 1.\n",
            " 0. 0. 1. 1. 1. 0. 0. 0. 1. 1. 1. 1. 1. 1. 1. 0. 0. 0. 1. 0. 0. 0. 1. 1.\n",
            " 0. 0. 0. 0.]\n"
          ]
        }
      ]
    },
    {
      "cell_type": "code",
      "source": [
        "print(y_test[0:10])"
      ],
      "metadata": {
        "colab": {
          "base_uri": "https://localhost:8080/"
        },
        "id": "zLZ5xZkfOcDD",
        "outputId": "9c9d2fe7-7be9-4332-b513-2b2f7e84e71e"
      },
      "execution_count": 169,
      "outputs": [
        {
          "output_type": "stream",
          "name": "stdout",
          "text": [
            "     R\n",
            "186  0\n",
            "155  0\n",
            "165  0\n",
            "200  0\n",
            "58   1\n",
            "34   1\n",
            "151  0\n",
            "18   1\n",
            "202  0\n",
            "62   1\n"
          ]
        }
      ]
    },
    {
      "cell_type": "code",
      "source": [
        "from sklearn.metrics import confusion_matrix, classification_report\n",
        "\n",
        "con_mat=classification_report(y_test,y_pred)\n",
        "\n",
        "print(con_mat)\n",
        "\n"
      ],
      "metadata": {
        "colab": {
          "base_uri": "https://localhost:8080/"
        },
        "id": "4QF47r42Mwri",
        "outputId": "ea4d14b6-bc72-4879-97b7-0a09bb649c18"
      },
      "execution_count": 170,
      "outputs": [
        {
          "output_type": "stream",
          "name": "stdout",
          "text": [
            "              precision    recall  f1-score   support\n",
            "\n",
            "           0       1.00      1.00      1.00        27\n",
            "           1       1.00      1.00      1.00        25\n",
            "\n",
            "    accuracy                           1.00        52\n",
            "   macro avg       1.00      1.00      1.00        52\n",
            "weighted avg       1.00      1.00      1.00        52\n",
            "\n"
          ]
        }
      ]
    },
    {
      "cell_type": "code",
      "source": [
        "conf_mat=confusion_matrix(y_test,y_pred)\n",
        "\n",
        "print(conf_mat)"
      ],
      "metadata": {
        "colab": {
          "base_uri": "https://localhost:8080/"
        },
        "id": "lo03pxxHOyxU",
        "outputId": "5ddc47f3-be33-4ac9-d8ce-8bec02a6c2cc"
      },
      "execution_count": 171,
      "outputs": [
        {
          "output_type": "stream",
          "name": "stdout",
          "text": [
            "[[27  0]\n",
            " [ 0 25]]\n"
          ]
        }
      ]
    },
    {
      "cell_type": "code",
      "source": [
        "model_with_dropout= keras.Sequential([\n",
        "    keras.layers.Dense(60, input_dim=60, activation=\"relu\"),\n",
        "    keras.layers.Dropout(0.5),\n",
        "    keras.layers.Dense(30,activation=\"relu\"),\n",
        "    keras.layers.Dropout(0.5),\n",
        "    keras.layers.Dense(15,activation=\"relu\"),\n",
        "    keras.layers.Dropout(0.5),\n",
        "    keras.layers.Dense(1,activation=\"sigmoid\"),\n",
        "\n",
        "])\n",
        "\n",
        "model_with_dropout.compile(loss=\"binary_crossentropy\",optimizer=\"adam\", metrics=['accuracy'])\n",
        "\n",
        "\n",
        "model_with_dropout.fit(x_test,y_test, epochs=100, batch_size=8)\n"
      ],
      "metadata": {
        "colab": {
          "base_uri": "https://localhost:8080/"
        },
        "id": "oFNz0veTPB8M",
        "outputId": "60d14693-c6b7-4908-e905-e8b63c44889a"
      },
      "execution_count": 172,
      "outputs": [
        {
          "output_type": "stream",
          "name": "stdout",
          "text": [
            "Epoch 1/100\n",
            "7/7 [==============================] - 1s 4ms/step - loss: 0.7267 - accuracy: 0.5577\n",
            "Epoch 2/100\n",
            "7/7 [==============================] - 0s 4ms/step - loss: 0.7680 - accuracy: 0.4615\n",
            "Epoch 3/100\n",
            "7/7 [==============================] - 0s 4ms/step - loss: 0.7193 - accuracy: 0.5192\n",
            "Epoch 4/100\n",
            "7/7 [==============================] - 0s 4ms/step - loss: 0.7536 - accuracy: 0.5385\n",
            "Epoch 5/100\n",
            "7/7 [==============================] - 0s 4ms/step - loss: 0.6847 - accuracy: 0.5577\n",
            "Epoch 6/100\n",
            "7/7 [==============================] - 0s 3ms/step - loss: 0.7140 - accuracy: 0.5000\n",
            "Epoch 7/100\n",
            "7/7 [==============================] - 0s 4ms/step - loss: 0.7374 - accuracy: 0.4423\n",
            "Epoch 8/100\n",
            "7/7 [==============================] - 0s 4ms/step - loss: 0.6988 - accuracy: 0.5192\n",
            "Epoch 9/100\n",
            "7/7 [==============================] - 0s 4ms/step - loss: 0.7320 - accuracy: 0.5385\n",
            "Epoch 10/100\n",
            "7/7 [==============================] - 0s 4ms/step - loss: 0.6864 - accuracy: 0.5577\n",
            "Epoch 11/100\n",
            "7/7 [==============================] - 0s 4ms/step - loss: 0.6879 - accuracy: 0.5577\n",
            "Epoch 12/100\n",
            "7/7 [==============================] - 0s 4ms/step - loss: 0.7062 - accuracy: 0.4808\n",
            "Epoch 13/100\n",
            "7/7 [==============================] - 0s 3ms/step - loss: 0.6883 - accuracy: 0.6154\n",
            "Epoch 14/100\n",
            "7/7 [==============================] - 0s 3ms/step - loss: 0.6872 - accuracy: 0.5000\n",
            "Epoch 15/100\n",
            "7/7 [==============================] - 0s 3ms/step - loss: 0.6857 - accuracy: 0.5962\n",
            "Epoch 16/100\n",
            "7/7 [==============================] - 0s 3ms/step - loss: 0.6519 - accuracy: 0.5769\n",
            "Epoch 17/100\n",
            "7/7 [==============================] - 0s 3ms/step - loss: 0.6771 - accuracy: 0.5769\n",
            "Epoch 18/100\n",
            "7/7 [==============================] - 0s 3ms/step - loss: 0.7065 - accuracy: 0.5385\n",
            "Epoch 19/100\n",
            "7/7 [==============================] - 0s 4ms/step - loss: 0.6945 - accuracy: 0.4423\n",
            "Epoch 20/100\n",
            "7/7 [==============================] - 0s 5ms/step - loss: 0.6919 - accuracy: 0.4231\n",
            "Epoch 21/100\n",
            "7/7 [==============================] - 0s 5ms/step - loss: 0.6879 - accuracy: 0.5385\n",
            "Epoch 22/100\n",
            "7/7 [==============================] - 0s 4ms/step - loss: 0.6887 - accuracy: 0.5769\n",
            "Epoch 23/100\n",
            "7/7 [==============================] - 0s 3ms/step - loss: 0.6821 - accuracy: 0.6346\n",
            "Epoch 24/100\n",
            "7/7 [==============================] - 0s 4ms/step - loss: 0.6658 - accuracy: 0.5000\n",
            "Epoch 25/100\n",
            "7/7 [==============================] - 0s 3ms/step - loss: 0.6727 - accuracy: 0.5385\n",
            "Epoch 26/100\n",
            "7/7 [==============================] - 0s 3ms/step - loss: 0.6853 - accuracy: 0.5385\n",
            "Epoch 27/100\n",
            "7/7 [==============================] - 0s 3ms/step - loss: 0.6822 - accuracy: 0.5962\n",
            "Epoch 28/100\n",
            "7/7 [==============================] - 0s 3ms/step - loss: 0.6636 - accuracy: 0.6538\n",
            "Epoch 29/100\n",
            "7/7 [==============================] - 0s 4ms/step - loss: 0.6718 - accuracy: 0.5769\n",
            "Epoch 30/100\n",
            "7/7 [==============================] - 0s 3ms/step - loss: 0.6854 - accuracy: 0.5577\n",
            "Epoch 31/100\n",
            "7/7 [==============================] - 0s 4ms/step - loss: 0.6754 - accuracy: 0.5962\n",
            "Epoch 32/100\n",
            "7/7 [==============================] - 0s 3ms/step - loss: 0.6840 - accuracy: 0.5000\n",
            "Epoch 33/100\n",
            "7/7 [==============================] - 0s 3ms/step - loss: 0.6725 - accuracy: 0.5000\n",
            "Epoch 34/100\n",
            "7/7 [==============================] - 0s 3ms/step - loss: 0.6888 - accuracy: 0.5769\n",
            "Epoch 35/100\n",
            "7/7 [==============================] - 0s 3ms/step - loss: 0.6288 - accuracy: 0.5385\n",
            "Epoch 36/100\n",
            "7/7 [==============================] - 0s 3ms/step - loss: 0.6365 - accuracy: 0.5385\n",
            "Epoch 37/100\n",
            "7/7 [==============================] - 0s 3ms/step - loss: 0.6604 - accuracy: 0.5769\n",
            "Epoch 38/100\n",
            "7/7 [==============================] - 0s 3ms/step - loss: 0.6165 - accuracy: 0.6731\n",
            "Epoch 39/100\n",
            "7/7 [==============================] - 0s 4ms/step - loss: 0.6585 - accuracy: 0.5962\n",
            "Epoch 40/100\n",
            "7/7 [==============================] - 0s 3ms/step - loss: 0.6075 - accuracy: 0.6538\n",
            "Epoch 41/100\n",
            "7/7 [==============================] - 0s 4ms/step - loss: 0.5863 - accuracy: 0.6731\n",
            "Epoch 42/100\n",
            "7/7 [==============================] - 0s 3ms/step - loss: 0.7206 - accuracy: 0.4615\n",
            "Epoch 43/100\n",
            "7/7 [==============================] - 0s 4ms/step - loss: 0.6267 - accuracy: 0.6538\n",
            "Epoch 44/100\n",
            "7/7 [==============================] - 0s 3ms/step - loss: 0.6153 - accuracy: 0.6538\n",
            "Epoch 45/100\n",
            "7/7 [==============================] - 0s 3ms/step - loss: 0.6537 - accuracy: 0.5769\n",
            "Epoch 46/100\n",
            "7/7 [==============================] - 0s 4ms/step - loss: 0.6710 - accuracy: 0.5769\n",
            "Epoch 47/100\n",
            "7/7 [==============================] - 0s 4ms/step - loss: 0.6006 - accuracy: 0.5769\n",
            "Epoch 48/100\n",
            "7/7 [==============================] - 0s 5ms/step - loss: 0.6010 - accuracy: 0.6731\n",
            "Epoch 49/100\n",
            "7/7 [==============================] - 0s 5ms/step - loss: 0.6673 - accuracy: 0.6346\n",
            "Epoch 50/100\n",
            "7/7 [==============================] - 0s 3ms/step - loss: 0.6211 - accuracy: 0.6923\n",
            "Epoch 51/100\n",
            "7/7 [==============================] - 0s 4ms/step - loss: 0.6223 - accuracy: 0.6538\n",
            "Epoch 52/100\n",
            "7/7 [==============================] - 0s 3ms/step - loss: 0.5781 - accuracy: 0.7115\n",
            "Epoch 53/100\n",
            "7/7 [==============================] - 0s 3ms/step - loss: 0.6560 - accuracy: 0.6346\n",
            "Epoch 54/100\n",
            "7/7 [==============================] - 0s 3ms/step - loss: 0.5627 - accuracy: 0.7115\n",
            "Epoch 55/100\n",
            "7/7 [==============================] - 0s 3ms/step - loss: 0.5943 - accuracy: 0.6346\n",
            "Epoch 56/100\n",
            "7/7 [==============================] - 0s 3ms/step - loss: 0.6145 - accuracy: 0.5962\n",
            "Epoch 57/100\n",
            "7/7 [==============================] - 0s 3ms/step - loss: 0.5741 - accuracy: 0.6731\n",
            "Epoch 58/100\n",
            "7/7 [==============================] - 0s 3ms/step - loss: 0.5864 - accuracy: 0.6731\n",
            "Epoch 59/100\n",
            "7/7 [==============================] - 0s 3ms/step - loss: 0.6247 - accuracy: 0.6538\n",
            "Epoch 60/100\n",
            "7/7 [==============================] - 0s 3ms/step - loss: 0.6143 - accuracy: 0.7500\n",
            "Epoch 61/100\n",
            "7/7 [==============================] - 0s 3ms/step - loss: 0.5971 - accuracy: 0.6923\n",
            "Epoch 62/100\n",
            "7/7 [==============================] - 0s 4ms/step - loss: 0.6286 - accuracy: 0.5769\n",
            "Epoch 63/100\n",
            "7/7 [==============================] - 0s 3ms/step - loss: 0.4972 - accuracy: 0.8654\n",
            "Epoch 64/100\n",
            "7/7 [==============================] - 0s 3ms/step - loss: 0.5954 - accuracy: 0.7115\n",
            "Epoch 65/100\n",
            "7/7 [==============================] - 0s 4ms/step - loss: 0.5463 - accuracy: 0.7308\n",
            "Epoch 66/100\n",
            "7/7 [==============================] - 0s 4ms/step - loss: 0.5602 - accuracy: 0.7500\n",
            "Epoch 67/100\n",
            "7/7 [==============================] - 0s 3ms/step - loss: 0.6026 - accuracy: 0.7308\n",
            "Epoch 68/100\n",
            "7/7 [==============================] - 0s 4ms/step - loss: 0.6142 - accuracy: 0.7308\n",
            "Epoch 69/100\n",
            "7/7 [==============================] - 0s 3ms/step - loss: 0.5329 - accuracy: 0.6538\n",
            "Epoch 70/100\n",
            "7/7 [==============================] - 0s 3ms/step - loss: 0.6054 - accuracy: 0.6538\n",
            "Epoch 71/100\n",
            "7/7 [==============================] - 0s 3ms/step - loss: 0.5741 - accuracy: 0.6731\n",
            "Epoch 72/100\n",
            "7/7 [==============================] - 0s 3ms/step - loss: 0.5748 - accuracy: 0.7115\n",
            "Epoch 73/100\n",
            "7/7 [==============================] - 0s 3ms/step - loss: 0.5597 - accuracy: 0.6923\n",
            "Epoch 74/100\n",
            "7/7 [==============================] - 0s 3ms/step - loss: 0.5639 - accuracy: 0.7500\n",
            "Epoch 75/100\n",
            "7/7 [==============================] - 0s 3ms/step - loss: 0.5260 - accuracy: 0.7885\n",
            "Epoch 76/100\n",
            "7/7 [==============================] - 0s 3ms/step - loss: 0.5159 - accuracy: 0.6923\n",
            "Epoch 77/100\n",
            "7/7 [==============================] - 0s 3ms/step - loss: 0.5711 - accuracy: 0.7692\n",
            "Epoch 78/100\n",
            "7/7 [==============================] - 0s 4ms/step - loss: 0.5104 - accuracy: 0.8077\n",
            "Epoch 79/100\n",
            "7/7 [==============================] - 0s 4ms/step - loss: 0.5912 - accuracy: 0.6731\n",
            "Epoch 80/100\n",
            "7/7 [==============================] - 0s 3ms/step - loss: 0.6112 - accuracy: 0.6538\n",
            "Epoch 81/100\n",
            "7/7 [==============================] - 0s 3ms/step - loss: 0.5691 - accuracy: 0.7308\n",
            "Epoch 82/100\n",
            "7/7 [==============================] - 0s 4ms/step - loss: 0.5439 - accuracy: 0.7500\n",
            "Epoch 83/100\n",
            "7/7 [==============================] - 0s 4ms/step - loss: 0.5340 - accuracy: 0.7692\n",
            "Epoch 84/100\n",
            "7/7 [==============================] - 0s 4ms/step - loss: 0.4893 - accuracy: 0.7692\n",
            "Epoch 85/100\n",
            "7/7 [==============================] - 0s 4ms/step - loss: 0.5706 - accuracy: 0.7500\n",
            "Epoch 86/100\n",
            "7/7 [==============================] - 0s 3ms/step - loss: 0.4756 - accuracy: 0.8077\n",
            "Epoch 87/100\n",
            "7/7 [==============================] - 0s 3ms/step - loss: 0.5518 - accuracy: 0.7885\n",
            "Epoch 88/100\n",
            "7/7 [==============================] - 0s 3ms/step - loss: 0.4932 - accuracy: 0.7308\n",
            "Epoch 89/100\n",
            "7/7 [==============================] - 0s 3ms/step - loss: 0.5148 - accuracy: 0.8269\n",
            "Epoch 90/100\n",
            "7/7 [==============================] - 0s 3ms/step - loss: 0.4923 - accuracy: 0.7115\n",
            "Epoch 91/100\n",
            "7/7 [==============================] - 0s 3ms/step - loss: 0.5024 - accuracy: 0.8269\n",
            "Epoch 92/100\n",
            "7/7 [==============================] - 0s 4ms/step - loss: 0.5599 - accuracy: 0.7308\n",
            "Epoch 93/100\n",
            "7/7 [==============================] - 0s 3ms/step - loss: 0.5457 - accuracy: 0.7308\n",
            "Epoch 94/100\n",
            "7/7 [==============================] - 0s 3ms/step - loss: 0.4234 - accuracy: 0.8462\n",
            "Epoch 95/100\n",
            "7/7 [==============================] - 0s 3ms/step - loss: 0.4471 - accuracy: 0.8654\n",
            "Epoch 96/100\n",
            "7/7 [==============================] - 0s 3ms/step - loss: 0.4079 - accuracy: 0.8269\n",
            "Epoch 97/100\n",
            "7/7 [==============================] - 0s 3ms/step - loss: 0.5111 - accuracy: 0.8269\n",
            "Epoch 98/100\n",
            "7/7 [==============================] - 0s 3ms/step - loss: 0.4598 - accuracy: 0.8077\n",
            "Epoch 99/100\n",
            "7/7 [==============================] - 0s 3ms/step - loss: 0.5344 - accuracy: 0.7692\n",
            "Epoch 100/100\n",
            "7/7 [==============================] - 0s 3ms/step - loss: 0.4515 - accuracy: 0.8077\n"
          ]
        },
        {
          "output_type": "execute_result",
          "data": {
            "text/plain": [
              "<keras.callbacks.History at 0x7f16781b4f40>"
            ]
          },
          "metadata": {},
          "execution_count": 172
        }
      ]
    },
    {
      "cell_type": "code",
      "source": [
        "model_with_dropout.evaluate(x_test,y_test)"
      ],
      "metadata": {
        "colab": {
          "base_uri": "https://localhost:8080/"
        },
        "id": "IYTMnUI9Qo-O",
        "outputId": "0c9d1d6c-6be3-4be4-efba-2f8213affa76"
      },
      "execution_count": 173,
      "outputs": [
        {
          "output_type": "stream",
          "name": "stdout",
          "text": [
            "2/2 [==============================] - 0s 9ms/step - loss: 0.3740 - accuracy: 0.8269\n"
          ]
        },
        {
          "output_type": "execute_result",
          "data": {
            "text/plain": [
              "[0.3739699721336365, 0.8269230723381042]"
            ]
          },
          "metadata": {},
          "execution_count": 173
        }
      ]
    },
    {
      "cell_type": "code",
      "source": [],
      "metadata": {
        "id": "okmgjbfgT40E"
      },
      "execution_count": 173,
      "outputs": []
    }
  ]
}