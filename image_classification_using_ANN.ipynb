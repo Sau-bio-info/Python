{
  "nbformat": 4,
  "nbformat_minor": 0,
  "metadata": {
    "colab": {
      "provenance": [],
      "authorship_tag": "ABX9TyOLAA1BWdzjPTMvNGKAOHFJ",
      "include_colab_link": true
    },
    "kernelspec": {
      "name": "python3",
      "display_name": "Python 3"
    },
    "language_info": {
      "name": "python"
    }
  },
  "cells": [
    {
      "cell_type": "markdown",
      "metadata": {
        "id": "view-in-github",
        "colab_type": "text"
      },
      "source": [
        "<a href=\"https://colab.research.google.com/github/Sau-bio-info/Python/blob/main/image_classification_using_ANN.ipynb\" target=\"_parent\"><img src=\"https://colab.research.google.com/assets/colab-badge.svg\" alt=\"Open In Colab\"/></a>"
      ]
    },
    {
      "cell_type": "code",
      "execution_count": null,
      "metadata": {
        "id": "DH3jMyxrk00C"
      },
      "outputs": [],
      "source": [
        "import numpy as np\n",
        "import matplotlib.pyplot as plt\n",
        "import tensorflow as tf\n",
        "from tensorflow import keras"
      ]
    },
    {
      "cell_type": "code",
      "source": [
        "tf.config.experimental.list_physical_devices()\n",
        "\n",
        "tf.test.is_built_with_cuda()"
      ],
      "metadata": {
        "colab": {
          "base_uri": "https://localhost:8080/"
        },
        "id": "tzJWKfD_lMGV",
        "outputId": "a2ace1d4-43c8-4abb-ba0e-5da940ae8d47"
      },
      "execution_count": null,
      "outputs": [
        {
          "output_type": "execute_result",
          "data": {
            "text/plain": [
              "True"
            ]
          },
          "metadata": {},
          "execution_count": 5
        }
      ]
    },
    {
      "cell_type": "code",
      "source": [
        "(x_train,y_train), (x_test,y_test)= tf.keras.datasets.cifar10.load_data()"
      ],
      "metadata": {
        "colab": {
          "base_uri": "https://localhost:8080/"
        },
        "id": "s8FBSeuZlf7i",
        "outputId": "93d46022-e755-4904-ac1d-1d4e22765782"
      },
      "execution_count": null,
      "outputs": [
        {
          "output_type": "stream",
          "name": "stdout",
          "text": [
            "Downloading data from https://www.cs.toronto.edu/~kriz/cifar-10-python.tar.gz\n",
            "170498071/170498071 [==============================] - 6s 0us/step\n"
          ]
        }
      ]
    },
    {
      "cell_type": "code",
      "source": [
        "x_train.shape"
      ],
      "metadata": {
        "colab": {
          "base_uri": "https://localhost:8080/"
        },
        "id": "sacSo48Dn8FW",
        "outputId": "89e2a7b0-eb5c-44ad-8f87-c9758745ef14"
      },
      "execution_count": null,
      "outputs": [
        {
          "output_type": "execute_result",
          "data": {
            "text/plain": [
              "(50000, 32, 32, 3)"
            ]
          },
          "metadata": {},
          "execution_count": 10
        }
      ]
    },
    {
      "cell_type": "code",
      "source": [
        "y_train[0:5]"
      ],
      "metadata": {
        "colab": {
          "base_uri": "https://localhost:8080/"
        },
        "id": "RpmNN993oCSM",
        "outputId": "94b7d835-0251-4810-d6a1-e1a2291c61d2"
      },
      "execution_count": null,
      "outputs": [
        {
          "output_type": "execute_result",
          "data": {
            "text/plain": [
              "array([[6],\n",
              "       [9],\n",
              "       [9],\n",
              "       [4],\n",
              "       [1]], dtype=uint8)"
            ]
          },
          "metadata": {},
          "execution_count": 14
        }
      ]
    },
    {
      "cell_type": "code",
      "source": [
        "def plot_sample(index):\n",
        "  plt.figure(figsize=(1,1))\n",
        "  plt.imshow(x_train[index])"
      ],
      "metadata": {
        "id": "5GIObBW9oqci"
      },
      "execution_count": null,
      "outputs": []
    },
    {
      "cell_type": "code",
      "source": [
        "plot_sample(12)"
      ],
      "metadata": {
        "colab": {
          "base_uri": "https://localhost:8080/",
          "height": 105
        },
        "id": "vKcRkDKspS-f",
        "outputId": "51d9c8cf-05bc-4679-e682-63971384ec4a"
      },
      "execution_count": null,
      "outputs": [
        {
          "output_type": "display_data",
          "data": {
            "text/plain": [
              "<Figure size 72x72 with 1 Axes>"
            ],
            "image/png": "[encoded data removed]"
          },
          "metadata": {
            "needs_background": "light"
          }
        }
      ]
    },
    {
      "cell_type": "code",
      "source": [
        "plot_sample(32)"
      ],
      "metadata": {
        "colab": {
          "base_uri": "https://localhost:8080/",
          "height": 105
        },
        "id": "QJvTghl4pY0_",
        "outputId": "069c93a1-338e-41dc-e04a-27e0014f0926"
      },
      "execution_count": null,
      "outputs": [
        {
          "output_type": "display_data",
          "data": {
            "text/plain": [
              "<Figure size 72x72 with 1 Axes>"
            ],
            "image/png": "[encoded data removed]"
          },
          "metadata": {
            "needs_background": "light"
          }
        }
      ]
    },
    {
      "cell_type": "markdown",
      "source": [
        "Scaling or normalising training data so they range between 0 to 1\n",
        "\n",
        "to scale we divide training data with 255 as the RGB values ranges from 1-255."
      ],
      "metadata": {
        "id": "4W8EedfjqYEz"
      }
    },
    {
      "cell_type": "code",
      "source": [
        "x_train_scaled=x_train/255\n",
        "\n",
        "x_test_scaled=x_test/255\n"
      ],
      "metadata": {
        "id": "qOWJY1-KpzvO"
      },
      "execution_count": null,
      "outputs": []
    },
    {
      "cell_type": "markdown",
      "source": [
        "For labels we will do One hot encoding, in one hot encoding what we basically do is we encode number of columns and presence with true and else with false."
      ],
      "metadata": {
        "id": "7ybwFJ6brgDO"
      }
    },
    {
      "cell_type": "code",
      "source": [
        "y_train_categorical=keras.utils.to_categorical(\n",
        "    y_train,num_classes=10, dtype=\"float32\"\n",
        ")\n",
        "\n",
        "y_test_categorical=keras.utils.to_categorical(\n",
        "    y_test,num_classes=10, dtype=\"float32\"\n",
        ")"
      ],
      "metadata": {
        "id": "8k6O81EprHA6"
      },
      "execution_count": null,
      "outputs": []
    },
    {
      "cell_type": "code",
      "source": [
        "y_train_categorical[0:5]"
      ],
      "metadata": {
        "colab": {
          "base_uri": "https://localhost:8080/"
        },
        "id": "j_7-cyc2tl00",
        "outputId": "eb87cba3-6db8-48fd-8a9d-ede9eaa2ca7c"
      },
      "execution_count": null,
      "outputs": [
        {
          "output_type": "execute_result",
          "data": {
            "text/plain": [
              "array([[0., 0., 0., 0., 0., 0., 1., 0., 0., 0.],\n",
              "       [0., 0., 0., 0., 0., 0., 0., 0., 0., 1.],\n",
              "       [0., 0., 0., 0., 0., 0., 0., 0., 0., 1.],\n",
              "       [0., 0., 0., 0., 1., 0., 0., 0., 0., 0.],\n",
              "       [0., 1., 0., 0., 0., 0., 0., 0., 0., 0.]], dtype=float32)"
            ]
          },
          "metadata": {},
          "execution_count": 37
        }
      ]
    },
    {
      "cell_type": "markdown",
      "source": [
        "Training the model."
      ],
      "metadata": {
        "id": "8rkhdV0UuMn_"
      }
    },
    {
      "cell_type": "code",
      "source": [
        "model= keras.Sequential([\n",
        "       keras.layers.Flatten(input_shape=(32,32,3)),\n",
        "       keras.layers.Dense(3000, activation=\"relu\"),\n",
        "       keras.layers.Dense(1000,activation=\"relu\"),\n",
        "       keras.layers.Dense(10,activation=\"sigmoid\")    \n",
        "])\n",
        "\n",
        "model.compile(optimizer=\"SGD\",\n",
        "              loss=\"categorical_crossentropy\",\n",
        "              metrics=[\"accuracy\"])\n",
        "\n",
        "model.fit(x_train_scaled,y_train_categorical, epochs=50)"
      ],
      "metadata": {
        "colab": {
          "base_uri": "https://localhost:8080/"
        },
        "id": "uEohL9pbt1Ra",
        "outputId": "fcebebcf-9410-49e8-d0aa-b8dfb1fcb6dd"
      },
      "execution_count": 44,
      "outputs": [
        {
          "output_type": "stream",
          "name": "stdout",
          "text": [
            "Epoch 1/50\n",
            "1563/1563 [==============================] - 106s 67ms/step - loss: 1.8152 - accuracy: 0.3548\n",
            "Epoch 2/50\n",
            "1563/1563 [==============================] - 96s 61ms/step - loss: 1.6216 - accuracy: 0.4263\n",
            "Epoch 3/50\n",
            "1563/1563 [==============================] - 96s 62ms/step - loss: 1.5419 - accuracy: 0.4560\n",
            "Epoch 4/50\n",
            "1563/1563 [==============================] - 97s 62ms/step - loss: 1.4819 - accuracy: 0.4776\n",
            "Epoch 5/50\n",
            "1563/1563 [==============================] - 99s 63ms/step - loss: 1.4316 - accuracy: 0.4957\n",
            "Epoch 6/50\n",
            "1563/1563 [==============================] - 100s 64ms/step - loss: 1.3882 - accuracy: 0.5121\n",
            "Epoch 7/50\n",
            "1563/1563 [==============================] - 101s 65ms/step - loss: 1.3528 - accuracy: 0.5243\n",
            "Epoch 8/50\n",
            "1563/1563 [==============================] - 100s 64ms/step - loss: 1.3165 - accuracy: 0.5384\n",
            "Epoch 9/50\n",
            "1563/1563 [==============================] - 101s 65ms/step - loss: 1.2836 - accuracy: 0.5505\n",
            "Epoch 10/50\n",
            "1563/1563 [==============================] - 100s 64ms/step - loss: 1.2534 - accuracy: 0.5588\n",
            "Epoch 11/50\n",
            "1563/1563 [==============================] - 101s 65ms/step - loss: 1.2231 - accuracy: 0.5723\n",
            "Epoch 12/50\n",
            "1563/1563 [==============================] - 100s 64ms/step - loss: 1.1932 - accuracy: 0.5844\n",
            "Epoch 13/50\n",
            "1563/1563 [==============================] - 100s 64ms/step - loss: 1.1665 - accuracy: 0.5921\n",
            "Epoch 14/50\n",
            "1563/1563 [==============================] - 101s 65ms/step - loss: 1.1393 - accuracy: 0.6024\n",
            "Epoch 15/50\n",
            "1563/1563 [==============================] - 101s 64ms/step - loss: 1.1134 - accuracy: 0.6111\n",
            "Epoch 16/50\n",
            "1563/1563 [==============================] - 101s 65ms/step - loss: 1.0886 - accuracy: 0.6179\n",
            "Epoch 17/50\n",
            "1563/1563 [==============================] - 100s 64ms/step - loss: 1.0611 - accuracy: 0.6301\n",
            "Epoch 18/50\n",
            "1563/1563 [==============================] - 101s 65ms/step - loss: 1.0348 - accuracy: 0.6392\n",
            "Epoch 19/50\n",
            "1563/1563 [==============================] - 99s 63ms/step - loss: 1.0089 - accuracy: 0.6513\n",
            "Epoch 20/50\n",
            "1563/1563 [==============================] - 101s 64ms/step - loss: 0.9806 - accuracy: 0.6609\n",
            "Epoch 21/50\n",
            "1563/1563 [==============================] - 99s 63ms/step - loss: 0.9575 - accuracy: 0.6673\n",
            "Epoch 22/50\n",
            "1563/1563 [==============================] - 100s 64ms/step - loss: 0.9317 - accuracy: 0.6781\n",
            "Epoch 23/50\n",
            "1563/1563 [==============================] - 100s 64ms/step - loss: 0.9085 - accuracy: 0.6857\n",
            "Epoch 24/50\n",
            "1563/1563 [==============================] - 100s 64ms/step - loss: 0.8801 - accuracy: 0.6955\n",
            "Epoch 25/50\n",
            "1563/1563 [==============================] - 100s 64ms/step - loss: 0.8545 - accuracy: 0.7038\n",
            "Epoch 26/50\n",
            "1563/1563 [==============================] - 100s 64ms/step - loss: 0.8307 - accuracy: 0.7135\n",
            "Epoch 27/50\n",
            "1563/1563 [==============================] - 99s 63ms/step - loss: 0.8059 - accuracy: 0.7222\n",
            "Epoch 28/50\n",
            "1563/1563 [==============================] - 100s 64ms/step - loss: 0.7798 - accuracy: 0.7327\n",
            "Epoch 29/50\n",
            "1563/1563 [==============================] - 100s 64ms/step - loss: 0.7546 - accuracy: 0.7414\n",
            "Epoch 30/50\n",
            "1563/1563 [==============================] - 99s 64ms/step - loss: 0.7300 - accuracy: 0.7513\n",
            "Epoch 31/50\n",
            "1563/1563 [==============================] - 98s 63ms/step - loss: 0.7007 - accuracy: 0.7608\n",
            "Epoch 32/50\n",
            "1563/1563 [==============================] - 99s 63ms/step - loss: 0.6806 - accuracy: 0.7714\n",
            "Epoch 33/50\n",
            "1563/1563 [==============================] - 99s 63ms/step - loss: 0.6554 - accuracy: 0.7771\n",
            "Epoch 34/50\n",
            "1563/1563 [==============================] - 99s 64ms/step - loss: 0.6308 - accuracy: 0.7867\n",
            "Epoch 35/50\n",
            "1563/1563 [==============================] - 99s 63ms/step - loss: 0.6069 - accuracy: 0.7962\n",
            "Epoch 36/50\n",
            "1563/1563 [==============================] - 107s 68ms/step - loss: 0.5832 - accuracy: 0.8056\n",
            "Epoch 37/50\n",
            "1563/1563 [==============================] - 94s 60ms/step - loss: 0.5608 - accuracy: 0.8129\n",
            "Epoch 38/50\n",
            "1563/1563 [==============================] - 94s 60ms/step - loss: 0.5363 - accuracy: 0.8216\n",
            "Epoch 39/50\n",
            "1563/1563 [==============================] - 95s 61ms/step - loss: 0.5155 - accuracy: 0.8291\n",
            "Epoch 40/50\n",
            "1563/1563 [==============================] - 95s 61ms/step - loss: 0.4913 - accuracy: 0.8399\n",
            "Epoch 41/50\n",
            "1563/1563 [==============================] - 98s 63ms/step - loss: 0.4673 - accuracy: 0.8490\n",
            "Epoch 42/50\n",
            "1563/1563 [==============================] - 98s 62ms/step - loss: 0.4460 - accuracy: 0.8553\n",
            "Epoch 43/50\n",
            "1563/1563 [==============================] - 106s 68ms/step - loss: 0.4261 - accuracy: 0.8638\n",
            "Epoch 44/50\n",
            "1563/1563 [==============================] - 98s 63ms/step - loss: 0.4040 - accuracy: 0.8720\n",
            "Epoch 45/50\n",
            "1563/1563 [==============================] - 98s 63ms/step - loss: 0.3859 - accuracy: 0.8779\n",
            "Epoch 46/50\n",
            "1563/1563 [==============================] - 99s 63ms/step - loss: 0.3685 - accuracy: 0.8840\n",
            "Epoch 47/50\n",
            "1563/1563 [==============================] - 103s 66ms/step - loss: 0.3479 - accuracy: 0.8912\n",
            "Epoch 48/50\n",
            "1563/1563 [==============================] - 102s 65ms/step - loss: 0.3265 - accuracy: 0.8994\n",
            "Epoch 49/50\n",
            "1563/1563 [==============================] - 108s 69ms/step - loss: 0.3129 - accuracy: 0.9047\n",
            "Epoch 50/50\n",
            "1563/1563 [==============================] - 101s 65ms/step - loss: 0.2946 - accuracy: 0.9111\n"
          ]
        },
        {
          "output_type": "execute_result",
          "data": {
            "text/plain": [
              "<keras.callbacks.History at 0x7fc87b4c2d00>"
            ]
          },
          "metadata": {},
          "execution_count": 44
        }
      ]
    },
    {
      "cell_type": "code",
      "source": [
        "np.argmax(model.predict(x_train_scaled)[54])"
      ],
      "metadata": {
        "id": "o_dylbgZt9vC",
        "colab": {
          "base_uri": "https://localhost:8080/"
        },
        "outputId": "e29c3817-0843-4ce8-fad0-6e1ba583e9fd"
      },
      "execution_count": 51,
      "outputs": [
        {
          "output_type": "stream",
          "name": "stdout",
          "text": [
            "1563/1563 [==============================] - 31s 20ms/step\n"
          ]
        },
        {
          "output_type": "execute_result",
          "data": {
            "text/plain": [
              "2"
            ]
          },
          "metadata": {},
          "execution_count": 51
        }
      ]
    },
    {
      "cell_type": "code",
      "source": [
        "y_train[54]"
      ],
      "metadata": {
        "colab": {
          "base_uri": "https://localhost:8080/"
        },
        "id": "DXqSDTD0Gre9",
        "outputId": "7ff9c528-3f8f-4ec1-c1e5-c1668a701d31"
      },
      "execution_count": 52,
      "outputs": [
        {
          "output_type": "execute_result",
          "data": {
            "text/plain": [
              "array([2], dtype=uint8)"
            ]
          },
          "metadata": {},
          "execution_count": 52
        }
      ]
    },
    {
      "cell_type": "markdown",
      "source": [
        "prediction gives probablities for 10 neurons we fetch maximum probablity using argmax for a given index in x_train and that turns out to be same class number in y_train which are our labels."
      ],
      "metadata": {
        "id": "PPjPn5RZH2Ac"
      }
    },
    {
      "cell_type": "code",
      "source": [],
      "metadata": {
        "id": "ccljlZfwHmjp"
      },
      "execution_count": null,
      "outputs": []
    }
  ]
}