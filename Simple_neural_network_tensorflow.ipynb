{
  "nbformat": 4,
  "nbformat_minor": 0,
  "metadata": {
    "colab": {
      "provenance": [],
      "authorship_tag": "ABX9TyPrrOwrBx3FsLvXJwxR7zQ6",
      "include_colab_link": true
    },
    "kernelspec": {
      "name": "python3",
      "display_name": "Python 3"
    },
    "language_info": {
      "name": "python"
    }
  },
  "cells": [
    {
      "cell_type": "markdown",
      "metadata": {
        "id": "view-in-github",
        "colab_type": "text"
      },
      "source": [
        "<a href=\"https://colab.research.google.com/github/Sau-bio-info/Python/blob/main/Simple_neural_network_tensorflow.ipynb\" target=\"_parent\"><img src=\"https://colab.research.google.com/assets/colab-badge.svg\" alt=\"Open In Colab\"/></a>"
      ]
    },
    {
      "cell_type": "markdown",
      "source": [
        "Importing tensorflow, keras, numpy and matplotlib"
      ],
      "metadata": {
        "id": "w1b3es1MZ99e"
      }
    },
    {
      "cell_type": "code",
      "execution_count": 1,
      "metadata": {
        "id": "m5uzL-x4Wvko"
      },
      "outputs": [],
      "source": [
        "import numpy as np\n",
        "import tensorflow as tf\n",
        "from tensorflow import keras\n",
        "import matplotlib.pyplot as plt\n",
        "%matplotlib inline"
      ]
    },
    {
      "cell_type": "markdown",
      "source": [
        "Loading data"
      ],
      "metadata": {
        "id": "IrJVHV7dZ7wt"
      }
    },
    {
      "cell_type": "code",
      "source": [
        "(x_train,y_train), (x_test,y_test)= keras.datasets.mnist.load_data()"
      ],
      "metadata": {
        "colab": {
          "base_uri": "https://localhost:8080/"
        },
        "id": "d7qWoWFbXpgO",
        "outputId": "a629c1a5-fec7-407c-fa42-b7eb3f8336c4"
      },
      "execution_count": 2,
      "outputs": [
        {
          "output_type": "stream",
          "name": "stdout",
          "text": [
            "Downloading data from https://storage.googleapis.com/tensorflow/tf-keras-datasets/mnist.npz\n",
            "11490434/11490434 [==============================] - 0s 0us/step\n"
          ]
        }
      ]
    },
    {
      "cell_type": "code",
      "source": [
        "print(len(x_train))\n",
        "\n",
        "print(len(y_train))\n",
        "\n",
        "print(len(x_test))\n",
        "\n",
        "print(len(y_test))\n",
        "\n",
        "x_train.shape\n",
        "x_test.shape"
      ],
      "metadata": {
        "id": "Ds7DdBl5YDWY"
      },
      "execution_count": null,
      "outputs": []
    },
    {
      "cell_type": "code",
      "source": [
        "x_train[0]"
      ],
      "metadata": {
        "id": "xFa16zjLZDVW"
      },
      "execution_count": null,
      "outputs": []
    },
    {
      "cell_type": "markdown",
      "source": [
        "Plotting and printing image values"
      ],
      "metadata": {
        "id": "yRKPt-iRZ0H2"
      }
    },
    {
      "cell_type": "code",
      "source": [
        "plt.matshow(x_train[155])\n",
        "\n",
        "y_train[155]"
      ],
      "metadata": {
        "colab": {
          "base_uri": "https://localhost:8080/",
          "height": 292
        },
        "id": "8LY73Ki2YPBU",
        "outputId": "6510d3ce-fffc-4886-a089-a13927030790"
      },
      "execution_count": 17,
      "outputs": [
        {
          "output_type": "execute_result",
          "data": {
            "text/plain": [
              "6"
            ]
          },
          "metadata": {},
          "execution_count": 17
        },
        {
          "output_type": "display_data",
          "data": {
            "text/plain": [
              "<Figure size 288x288 with 1 Axes>"
            ],
            "image/png": "[encoded data removed]"
          },
          "metadata": {
            "needs_background": "light"
          }
        }
      ]
    },
    {
      "cell_type": "markdown",
      "source": [
        "Flatting the training dataset"
      ],
      "metadata": {
        "id": "aCKKGxFRaQqt"
      }
    },
    {
      "cell_type": "code",
      "source": [
        "x_train_flatten=x_train.reshape(len(x_train),28*28)\n",
        "x_test_flatten=x_test.reshape(len(x_test),28*28)"
      ],
      "metadata": {
        "id": "uJeAPIlwaVZl"
      },
      "execution_count": 19,
      "outputs": []
    },
    {
      "cell_type": "code",
      "source": [
        "x_train_flatten.shape\n",
        "\n",
        "x_test_flatten.shape"
      ],
      "metadata": {
        "colab": {
          "base_uri": "https://localhost:8080/"
        },
        "id": "R3wb6mN6a8xZ",
        "outputId": "d75baabc-870a-4a44-b184-f19787dbd023"
      },
      "execution_count": 23,
      "outputs": [
        {
          "output_type": "execute_result",
          "data": {
            "text/plain": [
              "(10000, 784)"
            ]
          },
          "metadata": {},
          "execution_count": 23
        }
      ]
    },
    {
      "cell_type": "code",
      "source": [],
      "metadata": {
        "id": "0HYhSZatbRW6"
      },
      "execution_count": 25,
      "outputs": []
    },
    {
      "cell_type": "markdown",
      "source": [
        "Making the neural network"
      ],
      "metadata": {
        "id": "dnWWtgkvdIJP"
      }
    },
    {
      "cell_type": "code",
      "source": [
        "model=keras.Sequential([ \n",
        "    keras.layers.Dense(10,input_shape=(784,),activation='sigmoid')\n",
        "    \n",
        "])\n",
        "\n",
        "model.compile(optimizer='adam',\n",
        "              loss='sparse_categorical_crossentropy',\n",
        "              metrics=['accuracy']\n",
        "              )\n",
        "model.fit(x_train_flatten,y_train,epochs=5)"
      ],
      "metadata": {
        "colab": {
          "base_uri": "https://localhost:8080/"
        },
        "id": "CaPxzfdQbmX5",
        "outputId": "f4d12ca3-5838-4cc2-80d2-0f20340ac7b0"
      },
      "execution_count": 30,
      "outputs": [
        {
          "output_type": "stream",
          "name": "stdout",
          "text": [
            "Epoch 1/5\n",
            "1875/1875 [==============================] - 4s 2ms/step - loss: 9.6855 - accuracy: 0.8395\n",
            "Epoch 2/5\n",
            "1875/1875 [==============================] - 4s 2ms/step - loss: 6.0443 - accuracy: 0.8777\n",
            "Epoch 3/5\n",
            "1875/1875 [==============================] - 4s 2ms/step - loss: 5.6736 - accuracy: 0.8821\n",
            "Epoch 4/5\n",
            "1875/1875 [==============================] - 3s 2ms/step - loss: 5.4880 - accuracy: 0.8843\n",
            "Epoch 5/5\n",
            "1875/1875 [==============================] - 4s 2ms/step - loss: 5.3278 - accuracy: 0.8862\n"
          ]
        },
        {
          "output_type": "execute_result",
          "data": {
            "text/plain": [
              "<keras.callbacks.History at 0x7fc2acf4d4f0>"
            ]
          },
          "metadata": {},
          "execution_count": 30
        }
      ]
    },
    {
      "cell_type": "markdown",
      "source": [
        "Our neural network model has been build with an accuracy of 88% on training data lets check the accuracy on test data."
      ],
      "metadata": {
        "id": "Z7V9AvUDfZen"
      }
    },
    {
      "cell_type": "code",
      "source": [
        "model.fit(x_test_flatten,y_test,epochs=5)"
      ],
      "metadata": {
        "colab": {
          "base_uri": "https://localhost:8080/"
        },
        "id": "OCJdUTRCfmYV",
        "outputId": "d296f348-e348-4ebd-c0e8-83a9a26c6b33"
      },
      "execution_count": 32,
      "outputs": [
        {
          "output_type": "stream",
          "name": "stdout",
          "text": [
            "Epoch 1/5\n",
            "313/313 [==============================] - 1s 2ms/step - loss: 5.5997 - accuracy: 0.8920\n",
            "Epoch 2/5\n",
            "313/313 [==============================] - 1s 2ms/step - loss: 4.6538 - accuracy: 0.9019\n",
            "Epoch 3/5\n",
            "313/313 [==============================] - 1s 2ms/step - loss: 4.0260 - accuracy: 0.9034\n",
            "Epoch 4/5\n",
            "313/313 [==============================] - 1s 2ms/step - loss: 3.5176 - accuracy: 0.9123\n",
            "Epoch 5/5\n",
            "313/313 [==============================] - 1s 2ms/step - loss: 3.4247 - accuracy: 0.9138\n"
          ]
        },
        {
          "output_type": "execute_result",
          "data": {
            "text/plain": [
              "<keras.callbacks.History at 0x7fc2a4a6d100>"
            ]
          },
          "metadata": {},
          "execution_count": 32
        }
      ]
    },
    {
      "cell_type": "markdown",
      "source": [
        "Great! we have got a good accuracy which is around 91% for our test dataset."
      ],
      "metadata": {
        "id": "nkdyTgjIf0vd"
      }
    },
    {
      "cell_type": "markdown",
      "source": [
        "Predicting our handwritten numbers"
      ],
      "metadata": {
        "id": "-Q7DT_g3goal"
      }
    },
    {
      "cell_type": "code",
      "source": [
        "plt.matshow(x_test[65])\n",
        "\n",
        "y_predict=model.predict(x_test_flatten)\n",
        "\n",
        "y_predict[65]\n",
        "\n",
        "np.argmax(y_predict[65])\n",
        "\n"
      ],
      "metadata": {
        "colab": {
          "base_uri": "https://localhost:8080/",
          "height": 310
        },
        "id": "gRW7Z39rgsHK",
        "outputId": "3027817f-1b07-459e-92d9-e64be87a2ded"
      },
      "execution_count": 43,
      "outputs": [
        {
          "output_type": "stream",
          "name": "stdout",
          "text": [
            "313/313 [==============================] - 1s 3ms/step\n"
          ]
        },
        {
          "output_type": "execute_result",
          "data": {
            "text/plain": [
              "4"
            ]
          },
          "metadata": {},
          "execution_count": 43
        },
        {
          "output_type": "display_data",
          "data": {
            "text/plain": [
              "<Figure size 288x288 with 1 Axes>"
            ],
            "image/png": "[encoded data removed]"
          },
          "metadata": {
            "needs_background": "light"
          }
        }
      ]
    },
    {
      "cell_type": "markdown",
      "source": [
        "Adding hidden layers in neural network"
      ],
      "metadata": {
        "id": "_vYVfVbclAY_"
      }
    },
    {
      "cell_type": "code",
      "source": [
        "model=keras.Sequential([ \n",
        "    keras.layers.Dense(200,input_shape=(784,),activation='relu'),\n",
        "    keras.layers.Dense(10,activation='sigmoid')\n",
        "    \n",
        "])\n",
        "\n",
        "model.compile(optimizer='adam',\n",
        "              loss='sparse_categorical_crossentropy',\n",
        "              metrics=['accuracy']\n",
        "              )\n",
        "model.fit(x_train_flatten,y_train,epochs=10)"
      ],
      "metadata": {
        "colab": {
          "base_uri": "https://localhost:8080/"
        },
        "id": "AuzeIEaslGbT",
        "outputId": "e19d2944-fcbf-424f-b899-ed4e1eb0844a"
      },
      "execution_count": 52,
      "outputs": [
        {
          "output_type": "stream",
          "name": "stdout",
          "text": [
            "Epoch 1/10\n",
            "1875/1875 [==============================] - 10s 5ms/step - loss: 2.7109 - accuracy: 0.8822\n",
            "Epoch 2/10\n",
            "1875/1875 [==============================] - 10s 5ms/step - loss: 0.3690 - accuracy: 0.9201\n",
            "Epoch 3/10\n",
            "1875/1875 [==============================] - 11s 6ms/step - loss: 0.2818 - accuracy: 0.9329\n",
            "Epoch 4/10\n",
            "1875/1875 [==============================] - 10s 5ms/step - loss: 0.2578 - accuracy: 0.9387\n",
            "Epoch 5/10\n",
            "1875/1875 [==============================] - 10s 5ms/step - loss: 0.2365 - accuracy: 0.9459\n",
            "Epoch 6/10\n",
            "1875/1875 [==============================] - 9s 5ms/step - loss: 0.2184 - accuracy: 0.9495\n",
            "Epoch 7/10\n",
            "1875/1875 [==============================] - 10s 5ms/step - loss: 0.2168 - accuracy: 0.9525\n",
            "Epoch 8/10\n",
            "1875/1875 [==============================] - 14s 7ms/step - loss: 0.1941 - accuracy: 0.9537\n",
            "Epoch 9/10\n",
            "1875/1875 [==============================] - 14s 7ms/step - loss: 0.1816 - accuracy: 0.9580\n",
            "Epoch 10/10\n",
            "1875/1875 [==============================] - 13s 7ms/step - loss: 0.1801 - accuracy: 0.9578\n"
          ]
        },
        {
          "output_type": "execute_result",
          "data": {
            "text/plain": [
              "<keras.callbacks.History at 0x7fc2a5669d90>"
            ]
          },
          "metadata": {},
          "execution_count": 52
        }
      ]
    },
    {
      "cell_type": "markdown",
      "source": [
        "Adding the hidden layer has improved the model accuracy by 2% i.e it went to 93% from 91%.\n",
        "\n",
        "I tried increasing the epoch and number of neurons in hidden layer which increased its accuracy to 95%."
      ],
      "metadata": {
        "id": "RN_LfzwsmEZl"
      }
    },
    {
      "cell_type": "markdown",
      "source": [
        "Flattening the array in neural network itself."
      ],
      "metadata": {
        "id": "3hg0eiu-njGu"
      }
    },
    {
      "cell_type": "code",
      "source": [
        "model=keras.Sequential([ \n",
        "    keras.layers.Flatten(input_shape=(28,28)),\n",
        "    keras.layers.Dense(100,activation='relu'),\n",
        "    keras.layers.Dense(10,activation='sigmoid')\n",
        "    \n",
        "])\n",
        "\n",
        "model.compile(optimizer='adam',\n",
        "              loss='sparse_categorical_crossentropy',\n",
        "              metrics=['accuracy']\n",
        "              )\n",
        "model.fit(x_train,y_train,epochs=5)"
      ],
      "metadata": {
        "colab": {
          "base_uri": "https://localhost:8080/"
        },
        "id": "CmyvnrLwmPTg",
        "outputId": "34a3f84b-b06e-4802-9a54-15095da87aba"
      },
      "execution_count": 55,
      "outputs": [
        {
          "output_type": "stream",
          "name": "stdout",
          "text": [
            "Epoch 1/5\n",
            "1875/1875 [==============================] - 8s 4ms/step - loss: 2.2855 - accuracy: 0.8375\n",
            "Epoch 2/5\n",
            "1875/1875 [==============================] - 9s 5ms/step - loss: 0.4106 - accuracy: 0.8993\n",
            "Epoch 3/5\n",
            "1875/1875 [==============================] - 9s 5ms/step - loss: 0.3195 - accuracy: 0.9192\n",
            "Epoch 4/5\n",
            "1875/1875 [==============================] - 8s 4ms/step - loss: 0.2728 - accuracy: 0.9304\n",
            "Epoch 5/5\n",
            "1875/1875 [==============================] - 9s 5ms/step - loss: 0.2542 - accuracy: 0.9344\n"
          ]
        },
        {
          "output_type": "execute_result",
          "data": {
            "text/plain": [
              "<keras.callbacks.History at 0x7fc2a54ba880>"
            ]
          },
          "metadata": {},
          "execution_count": 55
        }
      ]
    },
    {
      "cell_type": "code",
      "source": [],
      "metadata": {
        "id": "Ip4HBJcWokA0"
      },
      "execution_count": null,
      "outputs": []
    }
  ]
}